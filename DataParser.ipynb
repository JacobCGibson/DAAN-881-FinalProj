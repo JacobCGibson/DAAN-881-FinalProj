{
 "cells": [
  {
   "cell_type": "code",
   "execution_count": 28,
   "id": "1eb20caf",
   "metadata": {},
   "outputs": [],
   "source": [
    "import pandas as pd\n",
    "\n",
    "# NOTE: Replace this with the path where your git checkout is located\n",
    "root_filepath = 'D:\\Workdir\\DAAN-881-FinalProj\\\\'\n",
    "\n",
    "orig_filepath = root_filepath+'RawData\\originals\\\\'\n",
    "int_filepath = root_filepath+'RawData\\intermediates\\\\'\n",
    "\n",
    "### I have created a working dataset below. Hopefully this code is enough of an example.\n",
    "### Note that if we clean the data used here, we should run this again and hopefully get more data\n",
    "\n",
    "# first, combine the conquest data\n",
    "df_terr_1816 = pd.read_csv(orig_filepath+'conquests\\\\territorial_changes_since_1816.csv', dtype=str)\n",
    "df_terr_1945 = pd.read_csv(orig_filepath+'conquests\\\\territorial_changes_since_1945.csv', dtype=str)\n",
    "df_territ = pd.concat([df_terr_1816, df_terr_1945], ignore_index=True)\n",
    "df_territ.to_csv(int_filepath+'territ.csv', index=False) \n",
    "\n",
    "\n",
    "# merge with the 'base' hced data\n",
    "df_base = pd.read_csv(orig_filepath+'hced_data.csv', dtype=str, sep=';')\n",
    "df_war_territ = pd.merge(\n",
    "    left=df_base, \n",
    "    right=df_territ,\n",
    "    how='left',\n",
    "    left_on=['Year', 'Country'],\n",
    "    right_on=['year', 'country_gaining'],\n",
    ")\n",
    "df_war_territ.to_csv(int_filepath+'war_territ.csv', index=False) \n",
    "\n",
    "\n",
    "# add death tolls data\n",
    "df_deaths = pd.read_csv(orig_filepath+'BattleDeaths_v24_1_conf.csv', dtype=str)\n",
    "merge_df = pd.merge(\n",
    "    left=df_war_territ, \n",
    "    right=df_deaths,\n",
    "    how='left',\n",
    "    left_on=['Year', 'Country'],\n",
    "    right_on=['year', 'location_inc'],\n",
    ")\n",
    "merge_df.to_csv(int_filepath+'war_territ_death.csv', index=False) \n",
    "\n",
    "\n",
    "# now add any other datasets after they have been cleaned"
   ]
  },
  {
   "cell_type": "code",
   "execution_count": null,
   "id": "9aabc4e8",
   "metadata": {},
   "outputs": [],
   "source": []
  }
 ],
 "metadata": {
  "kernelspec": {
   "display_name": "Python 3 (ipykernel)",
   "language": "python",
   "name": "python3"
  },
  "language_info": {
   "codemirror_mode": {
    "name": "ipython",
    "version": 3
   },
   "file_extension": ".py",
   "mimetype": "text/x-python",
   "name": "python",
   "nbconvert_exporter": "python",
   "pygments_lexer": "ipython3",
   "version": "3.11.5"
  }
 },
 "nbformat": 4,
 "nbformat_minor": 5
}
