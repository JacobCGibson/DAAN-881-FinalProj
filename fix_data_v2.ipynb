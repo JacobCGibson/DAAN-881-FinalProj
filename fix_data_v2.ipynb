{
 "cells": [
  {
   "cell_type": "code",
   "execution_count": 13,
   "id": "b1869e5e",
   "metadata": {},
   "outputs": [
    {
     "name": "stdout",
     "output_type": "stream",
     "text": [
      "Total Rows\n",
      "9102\n",
      "Missing values per column:\n",
      "Country                             1\n",
      "Latitude                            1\n",
      "Longitude                           1\n",
      "Page                               89\n",
      "Battle                              7\n",
      "Year                                2\n",
      "Participants                      526\n",
      "War                                 6\n",
      "Winner                             29\n",
      "Loser                             279\n",
      "Participant 1                    8759\n",
      "Participant 2                    8763\n",
      "Lehmann Zhukov Scale             4104\n",
      "Polygon                          8989\n",
      "Massacre                            2\n",
      "Alternative Sources Consulted    4780\n",
      "Infered Scale                    8199\n",
      "Minor                            8843\n",
      "year_x                           8544\n",
      "country_gaining                  8544\n",
      "iso3c_gaining                    8544\n",
      "country_losing                   8637\n",
      "iso3c_losing                     8741\n",
      "type                             8544\n",
      "pop                              8544\n",
      "area                             8544\n",
      "conflict_id                      9059\n",
      "dyad_id                          9059\n",
      "location_inc                     9059\n",
      "side_a                           9059\n",
      "side_a_id                        9059\n",
      "side_a_2nd                       9099\n",
      "side_b                           9059\n",
      "side_b_id                        9059\n",
      "side_b_2nd                       9094\n",
      "incompatibility                  9059\n",
      "territory_name                   9085\n",
      "year_y                           9059\n",
      "bd_best                          9059\n",
      "bd_low                           9059\n",
      "bd_high                          9059\n",
      "type_of_conflict                 9059\n",
      "battle_location                  9059\n",
      "gwno_a                           9059\n",
      "gwno_a_2nd                       9099\n",
      "gwno_b                           9102\n",
      "gwno_b_2nd                       9094\n",
      "gwno_loc                         9059\n",
      "gwno_battle                      9059\n",
      "region                           9059\n",
      "version                          9059\n",
      "dtype: int64\n"
     ]
    }
   ],
   "source": [
    "import pandas as pd\n",
    "\n",
    "# Load your dataset\n",
    "data = pd.read_csv('war_territ_death.csv')\n",
    "\n",
    "#Total rows\n",
    "data_rows = data.shape[0]\n",
    "print(\"Total Rows\")\n",
    "print(data_rows)\n",
    "\n",
    "# Check for missing values in the dataset\n",
    "missing_values = data.isnull().sum()\n",
    "print(\"Missing values per column:\")\n",
    "print(missing_values[missing_values > 0])"
   ]
  },
  {
   "cell_type": "code",
   "execution_count": 16,
   "id": "ec583b4b",
   "metadata": {},
   "outputs": [
    {
     "name": "stdout",
     "output_type": "stream",
     "text": [
      "Total Rows after cleaning\n",
      "41\n",
      "Missing values per column:\n",
      "Participant 1                    37\n",
      "Participant 2                    37\n",
      "Lehmann Zhukov Scale             20\n",
      "Polygon                          41\n",
      "Alternative Sources Consulted    25\n",
      "Infered Scale                    30\n",
      "Minor                            41\n",
      "year_x                           41\n",
      "country_gaining                  41\n",
      "iso3c_gaining                    41\n",
      "country_losing                   41\n",
      "iso3c_losing                     41\n",
      "type                             41\n",
      "pop                              41\n",
      "area                             41\n",
      "side_a_2nd                       39\n",
      "side_b_2nd                       34\n",
      "territory_name                   24\n",
      "gwno_a_2nd                       39\n",
      "gwno_b                           41\n",
      "gwno_b_2nd                       34\n",
      "dtype: int64\n",
      "Data successfully saved to the CSV file.\n"
     ]
    }
   ],
   "source": [
    "# Define the list of columns to check for null values\n",
    "columns_to_check = [\n",
    "    \"Country\", \"Year\", \"Participants\"\n",
    "]\n",
    "\n",
    "# Drop rows with any null values in the specified columns\n",
    "data_cleaned = data.dropna(subset=columns_to_check)\n",
    "\n",
    "#Total rows\n",
    "data_rowsv2 = data_cleaned.shape[0]\n",
    "print(\"Total Rows after cleaning\")\n",
    "print(data_rowsv2)\n",
    "\n",
    "# Check for missing values in the dataset\n",
    "data_cleanedv2 = data_cleaned.isnull().sum()\n",
    "print(\"Missing values per column:\")\n",
    "print(data_cleanedv2[data_cleanedv2 > 0])\n",
    "\n",
    "# Save the modified DataFrame back to the same CSV file\n",
    "data_cleaned.to_csv('war_territ_death_v2.csv', index=False)  # 'index=False' prevents writing row numbers to the CSV\n",
    "\n",
    "print(\"Data successfully saved to the CSV file.\")"
   ]
  },
  {
   "cell_type": "code",
   "execution_count": 17,
   "id": "e3de3ccd",
   "metadata": {},
   "outputs": [
    {
     "name": "stdout",
     "output_type": "stream",
     "text": [
      "Missing values per column:\n",
      "Participant 1                    37\n",
      "Participant 2                    37\n",
      "Lehmann Zhukov Scale             20\n",
      "Polygon                          41\n",
      "Alternative Sources Consulted    25\n",
      "Infered Scale                    30\n",
      "Minor                            41\n",
      "year_x                           41\n",
      "country_gaining                  41\n",
      "iso3c_gaining                    41\n",
      "country_losing                   41\n",
      "iso3c_losing                     41\n",
      "type                             41\n",
      "pop                              41\n",
      "area                             41\n",
      "side_a_2nd                       39\n",
      "side_b_2nd                       34\n",
      "territory_name                   24\n",
      "gwno_a_2nd                       39\n",
      "gwno_b                           41\n",
      "gwno_b_2nd                       34\n",
      "dtype: int64\n"
     ]
    }
   ],
   "source": [
    "# Test the dataset\n",
    "newdata = pd.read_csv('war_territ_death_v2.csv')\n",
    "\n",
    "# Check for missing values in the dataset\n",
    "missing_values2 = newdata.isnull().sum()\n",
    "print(\"Missing values per column:\")\n",
    "print(missing_values2[missing_values2 > 0])"
   ]
  },
  {
   "cell_type": "code",
   "execution_count": null,
   "id": "80ef2051",
   "metadata": {},
   "outputs": [],
   "source": []
  }
 ],
 "metadata": {
  "kernelspec": {
   "display_name": "Python 3",
   "language": "python",
   "name": "python3"
  },
  "language_info": {
   "codemirror_mode": {
    "name": "ipython",
    "version": 3
   },
   "file_extension": ".py",
   "mimetype": "text/x-python",
   "name": "python",
   "nbconvert_exporter": "python",
   "pygments_lexer": "ipython3",
   "version": "3.8.8"
  }
 },
 "nbformat": 4,
 "nbformat_minor": 5
}
