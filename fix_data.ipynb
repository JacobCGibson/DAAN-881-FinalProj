{
 "cells": [
  {
   "cell_type": "code",
   "execution_count": 4,
   "id": "7ecff495",
   "metadata": {},
   "outputs": [
    {
     "name": "stdout",
     "output_type": "stream",
     "text": [
      "Missing values per column:\n",
      "Country                             1\n",
      "Latitude                            1\n",
      "Longitude                           1\n",
      "Page                               88\n",
      "Battle                              7\n",
      "Year                                2\n",
      "Participants                      523\n",
      "War                                 6\n",
      "Winner                             28\n",
      "Loser                             275\n",
      "Participant 1                    8545\n",
      "Participant 2                    8549\n",
      "Lehmann Zhukov Scale             3998\n",
      "Polygon                          8769\n",
      "Massacre                            2\n",
      "Alternative Sources Consulted    4655\n",
      "Infered Scale                    8011\n",
      "Minor                            8624\n",
      "dtype: int64\n"
     ]
    }
   ],
   "source": [
    "import pandas as pd\n",
    "\n",
    "# Load your dataset\n",
    "data = pd.read_csv('hced_data_new.csv')\n",
    "\n",
    "# Check for missing values in the dataset\n",
    "missing_values = data.isnull().sum()\n",
    "print(\"Missing values per column:\")\n",
    "print(missing_values[missing_values > 0])\n"
   ]
  },
  {
   "cell_type": "code",
   "execution_count": 5,
   "id": "7b2cedba",
   "metadata": {},
   "outputs": [
    {
     "data": {
      "text/plain": [
       "ID                                  0\n",
       "Country                             1\n",
       "Latitude                            1\n",
       "Longitude                           1\n",
       "Page                               88\n",
       "Battle                              7\n",
       "Year                                2\n",
       "Participants                      523\n",
       "War                                 6\n",
       "Winner                             28\n",
       "Loser                             275\n",
       "Participant 1                    8545\n",
       "Participant 2                    8549\n",
       "Lehmann Zhukov Scale             3998\n",
       "Theatre                             0\n",
       "Polygon                          8769\n",
       "Massacre                            2\n",
       "Alternative Sources Consulted    4655\n",
       "Infered Scale                    8011\n",
       "Minor                            8624\n",
       "dtype: int64"
      ]
     },
     "execution_count": 5,
     "metadata": {},
     "output_type": "execute_result"
    }
   ],
   "source": [
    "# Modify missing numeric values with the mean\n",
    "data.fillna(data.mean(), inplace=True)\n",
    "\n",
    "# For categorical columns, modify with the most frequent value (mode)\n",
    "data.fillna(data.mode().iloc[0])\n",
    "\n",
    "data.isnull().sum()\n",
    "\n",
    "# Check that the data has no missing values after imputation\n",
    "# print(\"Missing values after imputation:\", data.isnull().sum().sum())\n"
   ]
  },
  {
   "cell_type": "code",
   "execution_count": null,
   "id": "3b8b34a7",
   "metadata": {},
   "outputs": [],
   "source": []
  }
 ],
 "metadata": {
  "kernelspec": {
   "display_name": "Python 3",
   "language": "python",
   "name": "python3"
  },
  "language_info": {
   "codemirror_mode": {
    "name": "ipython",
    "version": 3
   },
   "file_extension": ".py",
   "mimetype": "text/x-python",
   "name": "python",
   "nbconvert_exporter": "python",
   "pygments_lexer": "ipython3",
   "version": "3.8.8"
  }
 },
 "nbformat": 4,
 "nbformat_minor": 5
}
