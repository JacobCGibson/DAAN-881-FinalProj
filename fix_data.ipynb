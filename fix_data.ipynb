{
 "cells": [
  {
   "cell_type": "code",
   "execution_count": 8,
   "id": "4ce6e10f",
   "metadata": {},
   "outputs": [
    {
     "name": "stdout",
     "output_type": "stream",
     "text": [
      "Missing values per column:\n",
      "Country                             1\n",
      "Latitude                            1\n",
      "Longitude                           1\n",
      "Page                               89\n",
      "Battle                              7\n",
      "Year                                2\n",
      "Participants                      526\n",
      "War                                 6\n",
      "Winner                             29\n",
      "Loser                             279\n",
      "Participant 1                    8759\n",
      "Participant 2                    8763\n",
      "Lehmann Zhukov Scale             4104\n",
      "Polygon                          8989\n",
      "Massacre                            2\n",
      "Alternative Sources Consulted    4780\n",
      "Infered Scale                    8199\n",
      "Minor                            8843\n",
      "year_x                           8544\n",
      "country_gaining                  8544\n",
      "iso3c_gaining                    8544\n",
      "country_losing                   8637\n",
      "iso3c_losing                     8741\n",
      "type                             8544\n",
      "pop                              8544\n",
      "area                             8544\n",
      "conflict_id                      9059\n",
      "dyad_id                          9059\n",
      "location_inc                     9059\n",
      "side_a                           9059\n",
      "side_a_id                        9059\n",
      "side_a_2nd                       9099\n",
      "side_b                           9059\n",
      "side_b_id                        9059\n",
      "side_b_2nd                       9094\n",
      "incompatibility                  9059\n",
      "territory_name                   9085\n",
      "year_y                           9059\n",
      "bd_best                          9059\n",
      "bd_low                           9059\n",
      "bd_high                          9059\n",
      "type_of_conflict                 9059\n",
      "battle_location                  9059\n",
      "gwno_a                           9059\n",
      "gwno_a_2nd                       9099\n",
      "gwno_b                           9102\n",
      "gwno_b_2nd                       9094\n",
      "gwno_loc                         9059\n",
      "gwno_battle                      9059\n",
      "region                           9059\n",
      "version                          9059\n",
      "dtype: int64\n"
     ]
    }
   ],
   "source": [
    "import pandas as pd\n",
    "\n",
    "# Load your dataset\n",
    "data = pd.read_csv('war_territ_death.csv')\n",
    "\n",
    "# Check for missing values in the dataset\n",
    "missing_values = data.isnull().sum()\n",
    "print(\"Missing values per column:\")\n",
    "print(missing_values[missing_values > 0])\n"
   ]
  },
  {
   "cell_type": "code",
   "execution_count": 9,
   "id": "fac96b76",
   "metadata": {},
   "outputs": [
    {
     "name": "stdout",
     "output_type": "stream",
     "text": [
      "Missing values per column:\n",
      "gwno_b    9102\n",
      "dtype: int64\n"
     ]
    }
   ],
   "source": [
    "# Modify missing numeric values with the mean\n",
    "data.fillna(data.mean(), inplace=True)\n",
    "\n",
    "# For categorical columns, modify with the most frequent value (mode)\n",
    "data.fillna(data.mode().iloc[0], inplace=True)\n",
    "\n",
    "# Check for missing values in the dataset\n",
    "missing_values = data.isnull().sum()\n",
    "print(\"Missing values per column:\")\n",
    "print(missing_values[missing_values > 0])\n"
   ]
  },
  {
   "cell_type": "code",
   "execution_count": null,
   "id": "1ba4c3f4",
   "metadata": {},
   "outputs": [],
   "source": []
  }
 ],
 "metadata": {
  "kernelspec": {
   "display_name": "Python 3",
   "language": "python",
   "name": "python3"
  },
  "language_info": {
   "codemirror_mode": {
    "name": "ipython",
    "version": 3
   },
   "file_extension": ".py",
   "mimetype": "text/x-python",
   "name": "python",
   "nbconvert_exporter": "python",
   "pygments_lexer": "ipython3",
   "version": "3.8.8"
  }
 },
 "nbformat": 4,
 "nbformat_minor": 5
}
